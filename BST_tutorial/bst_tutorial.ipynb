{
 "cells": [
  {
   "cell_type": "markdown",
   "metadata": {},
   "source": [
    "# I-LOFAR BST Tutorial"
   ]
  },
  {
   "cell_type": "markdown",
   "metadata": {},
   "source": [
    "This tutorial is based on that of Pearse Murphy which can be found [here](https://www.dropbox.com/s/cgcn1nbqylzq8fe/KAIRA-UIT-DAT-506.zip?dl=0) and [here](https://github.com/murphp30/I_LOFAR_workshop_2020) for further reference. \n",
    "\n",
    "The following tutorial is aimed at familiarising the users with beamlet statistics (BST) data produced by the internation LOFAR station like the Irish Lofarstaion or I-LOFAR. BST data is the average power per beamlet that an antenna (or set of antennas) receives, integrated over a specified time period."
   ]
  },
  {
   "cell_type": "markdown",
   "metadata": {},
   "source": [
    "## Exercise 1: Reading in data"
   ]
  },
  {
   "cell_type": "markdown",
   "metadata": {},
   "source": [
    "The first step in analysing any unfamiliar data is to read it into memory and find out some information about its structure.\n",
    "\n",
    "Complete/answer the following:\n",
    "* Read BST file it into memory. (Hint, `numpy` makes things easy)\n",
    "* How many data points are there?\n",
    "* How does this compare to the file size?\n",
    "* How many subbands were observed? (Hint, need to know bitmode of observation)\n",
    "* How long was the observation? \n"
   ]
  },
  {
   "cell_type": "code",
   "execution_count": null,
   "metadata": {
    "scrolled": true
   },
   "outputs": [],
   "source": [
    "import os\n",
    "import sys\n",
    "import glob\n",
    "\n",
    "from datetime import datetime, timedelta\n",
    "\n",
    "import numpy as np\n",
    "\n",
    "from matplotlib.colors import LogNorm\n",
    "from matplotlib import dates\n",
    "from matplotlib import pyplot as plt"
   ]
  },
  {
   "cell_type": "code",
   "execution_count": null,
   "metadata": {},
   "outputs": [],
   "source": [
    "bstfile = \"./BST_data/modea/20190612_133144_bst_00X.dat\"\n",
    "#Read in data\n"
   ]
  },
  {
   "cell_type": "markdown",
   "metadata": {},
   "source": [
    "## Exercise 2:  Reshaping data"
   ]
  },
  {
   "cell_type": "markdown",
   "metadata": {},
   "source": [
    "BST data is 2 dimensional, time and frequency. Using what we learned above reshape the data so that it is a 2D array with time on one axis and frequency on another."
   ]
  },
  {
   "cell_type": "code",
   "execution_count": null,
   "metadata": {},
   "outputs": [],
   "source": [
    "#Reshape data\n"
   ]
  },
  {
   "cell_type": "markdown",
   "metadata": {},
   "source": [
    "## Exercise 3: Quick plot"
   ]
  },
  {
   "cell_type": "markdown",
   "metadata": {},
   "source": [
    "We now have everything we need to make a quick plot of our data.\n",
    "\n",
    "* Use `matplotlib` to produce a dynamic spectrum. Make sure to have time on the x-axis.\n",
    "* What \"mode\" was this observation made in? (Hint, log your data)\n",
    "* Play around with vmin and vmax."
   ]
  },
  {
   "cell_type": "code",
   "execution_count": null,
   "metadata": {},
   "outputs": [],
   "source": []
  },
  {
   "cell_type": "markdown",
   "metadata": {},
   "source": [
    "## Exercise 4: Updating axes"
   ]
  },
  {
   "cell_type": "markdown",
   "metadata": {},
   "source": [
    "Let's convert subband number to frequency and include the actual time for our axes.\n",
    "\n",
    "Remember the conversion from subband number to frequency from earlier\n",
    "\n",
    "$$\\nu = (n-1+ \\frac{s}{512})\\frac{\\nu_{clock}}{2},$$\n",
    "\n",
    "where $n$ is the nyquist zone, $s$ is the subband number and $\\nu_{clock}$ is the clock frequency.\n",
    "\n",
    "In this example $n=1$ and $\\nu_{clock} = 200$ MHz.\n",
    "\n",
    "* Look at `solar_mode3_20190612_133144.sh` to find which subbands were used.\n",
    "* Write a function to convert subband number to frequency.\n",
    "* Using the timestamp in the BST file name, create an array of datetime objects for the time array.\n",
    "* Replot the data with the correct frequency and time axis."
   ]
  },
  {
   "cell_type": "code",
   "execution_count": null,
   "metadata": {},
   "outputs": [],
   "source": []
  },
  {
   "cell_type": "code",
   "execution_count": null,
   "metadata": {},
   "outputs": [],
   "source": [
    "#use datetime.strptime or your favourite library to create datetime objects from a string\n",
    "\n",
    "# subbands=\"7:494\" \n",
    "# beamlets=\"0:487\" \n"
   ]
  },
  {
   "cell_type": "markdown",
   "metadata": {},
   "source": [
    "## Exercise 5: Remove background"
   ]
  },
  {
   "cell_type": "markdown",
   "metadata": {},
   "source": [
    "How would you remove the effect of the antenna bandpass filter?"
   ]
  },
  {
   "cell_type": "code",
   "execution_count": null,
   "metadata": {},
   "outputs": [],
   "source": []
  },
  {
   "cell_type": "markdown",
   "metadata": {},
   "source": [
    "## Exercise 5: Mode 357\n",
    "\n",
    "Mode 357 is a common solar observation mode where the 488 beamlets are spread across Mode, 3, 5, and 7 to obtain wide freqency coverage of the sun.\n",
    "\n",
    "| Mode | Beamlet |\n",
    "| --- | --- |\n",
    "| 3 | 0 - 199 |\n",
    "| 5 | 200 - 399 |\n",
    "| 7 | 400- 487 |\n",
    "\n",
    "Let load the data"
   ]
  },
  {
   "cell_type": "code",
   "execution_count": null,
   "metadata": {},
   "outputs": [],
   "source": []
  },
  {
   "cell_type": "markdown",
   "metadata": {},
   "source": [
    "As before we need to reshape the data as this was an 8bit observatin we know there are 488 beamlets"
   ]
  },
  {
   "cell_type": "code",
   "execution_count": null,
   "metadata": {},
   "outputs": [],
   "source": []
  },
  {
   "cell_type": "markdown",
   "metadata": {},
   "source": [
    "Now we can plot the full mode 357 data or dynamic spectrum"
   ]
  },
  {
   "cell_type": "code",
   "execution_count": null,
   "metadata": {},
   "outputs": [],
   "source": []
  },
  {
   "cell_type": "markdown",
   "metadata": {},
   "source": [
    "So we can see the data looks as we expect but it's no very useful without the time and freqency information\n",
    "\n",
    "Mode 357 is configured with the following subbands:\n",
    "* 3, Zone=1: 54, 56, 58, ..., 454\n",
    "* 5, Zone=2: 54, 56, 58, ..., 454\n",
    "* 7: Zone=3, 54, 56, 58, ..., 230\n",
    "\n",
    "Using the functions we defined above find the frequencies for these "
   ]
  },
  {
   "cell_type": "code",
   "execution_count": null,
   "metadata": {},
   "outputs": [],
   "source": []
  },
  {
   "cell_type": "markdown",
   "metadata": {},
   "source": [
    "As before we can extract the time information from the filename"
   ]
  },
  {
   "cell_type": "code",
   "execution_count": null,
   "metadata": {},
   "outputs": [],
   "source": []
  },
  {
   "cell_type": "markdown",
   "metadata": {},
   "source": [
    "We can extract the data for each of the modes"
   ]
  },
  {
   "cell_type": "code",
   "execution_count": null,
   "metadata": {},
   "outputs": [],
   "source": []
  },
  {
   "cell_type": "markdown",
   "metadata": {},
   "source": [
    "Finally plot the mode 357 with the correct axis by combing what was done above for the other BST file."
   ]
  },
  {
   "cell_type": "code",
   "execution_count": null,
   "metadata": {},
   "outputs": [],
   "source": [
    "fig, (ax1, ax2, ax3) = plt.subplots(nrows=3, ncols=1, figsize=(8, 6), layout='constrained')\n",
    "# fill in mode 7 data\n",
    "ax1.imshow()\n",
    "\n",
    "# fill in mode 5 data\n",
    "ax2.imshow()\n",
    "\n",
    "# fill in mode 3 data\n",
    "ax3.imshow()"
   ]
  }
 ],
 "metadata": {
  "kernelspec": {
   "display_name": "Python 3 (ipykernel)",
   "language": "python",
   "name": "python3"
  },
  "language_info": {
   "codemirror_mode": {
    "name": "ipython",
    "version": 3
   },
   "file_extension": ".py",
   "mimetype": "text/x-python",
   "name": "python",
   "nbconvert_exporter": "python",
   "pygments_lexer": "ipython3",
   "version": "3.9.16"
  }
 },
 "nbformat": 4,
 "nbformat_minor": 2
}
