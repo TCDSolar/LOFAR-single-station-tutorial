{
 "cells": [
  {
   "cell_type": "markdown",
   "metadata": {},
   "source": [
    "# I-LOFAR BST Tutorial"
   ]
  },
  {
   "cell_type": "markdown",
   "metadata": {},
   "source": [
    "This tutorial is based on that of Pearse Murphy which can be found [here](https://www.dropbox.com/s/cgcn1nbqylzq8fe/KAIRA-UIT-DAT-506.zip?dl=0) and [here](https://github.com/murphp30/I_LOFAR_workshop_2020) for further reference. \n",
    "\n",
    "The following tutorial is aimed at familiarising the users with beamlet statistics (BST) data produced by the internation LOFAR station like the Irish Lofarstaion or I-LOFAR. BST data is the average power per beamlet that an antenna (or set of antennas) receives, integrated over a specified time period."
   ]
  },
  {
   "cell_type": "markdown",
   "metadata": {},
   "source": [
    "## Exercise 1: Reading in data"
   ]
  },
  {
   "cell_type": "markdown",
   "metadata": {},
   "source": [
    "The first step in analysing any unfamiliar data is to read it into memory and find out some information about its structure.\n",
    "\n",
    "Complete/answer the following:\n",
    "* Read BST file it into memory. (Hint, `numpy` makes things easy)\n",
    "* How many data points are there?\n",
    "* How does this compare to the file size?\n",
    "* How many subbands were observed? (Hint, need to know bitmode of observation)\n",
    "* How long was the observation? "
   ]
  },
  {
   "cell_type": "code",
   "execution_count": null,
   "metadata": {},
   "outputs": [],
   "source": [
    "import os\n",
    "import sys\n",
    "import glob\n",
    "\n",
    "from datetime import datetime, timedelta\n",
    "\n",
    "import numpy as np\n",
    "\n",
    "from matplotlib.colors import LogNorm\n",
    "from matplotlib import dates\n",
    "from matplotlib import pyplot as plt"
   ]
  },
  {
   "cell_type": "code",
   "execution_count": null,
   "metadata": {},
   "outputs": [],
   "source": [
    "bstfile = \"./BST_data/modea/20190612_133144_bst_00X.dat\"\n",
    "data = np.fromfile(bstfile)\n",
    "print(\"Number of data points:\",data.shape[0])\n",
    "print(\"File size:\",os.path.getsize(bstfile))\n",
    "print(\"Bitmode:\",os.path.getsize(bstfile)/data.shape[0])\n",
    "\n",
    "#bitmode is 8 therefore 488 subbands (not always though)\n",
    "t_len = data.shape[0]/488\n",
    "print(\"Time samples:\",t_len )"
   ]
  },
  {
   "cell_type": "markdown",
   "metadata": {},
   "source": [
    "## Exercise 2:  Reshaping data"
   ]
  },
  {
   "cell_type": "markdown",
   "metadata": {},
   "source": [
    "BST data is 2 dimensional, time and frequency. Using what we learned above reshape the data so that it is a 2D array with time on one axis and frequency on another."
   ]
  },
  {
   "cell_type": "code",
   "execution_count": null,
   "metadata": {},
   "outputs": [],
   "source": [
    "#data = data.reshape(int(t_len),488)\n",
    "data = data.reshape(-1,488) \n",
    "print(data.shape)"
   ]
  },
  {
   "cell_type": "markdown",
   "metadata": {},
   "source": [
    "## Exercise 3: Quick plot"
   ]
  },
  {
   "cell_type": "markdown",
   "metadata": {},
   "source": [
    "We now have everything we need to make a quick plot of our data.\n",
    "\n",
    "* Use `matplotlib` to produce a dynamic spectrum. Make sure to have time on the x-axis.\n",
    "* What \"mode\" was this observation made in? (Hint, log your data or use log scale)\n",
    "* Play around with vmin and vmax."
   ]
  },
  {
   "cell_type": "code",
   "execution_count": null,
   "metadata": {},
   "outputs": [],
   "source": [
    "#plt.imshow(data.T, aspect=\"auto\", norm=LogNorm())\n",
    "plt.imshow(np.log10(data.T), aspect=\"auto\")\n",
    "plt.figure()\n",
    "plt.plot(np.log10(np.sum(data,0)))"
   ]
  },
  {
   "cell_type": "markdown",
   "metadata": {},
   "source": [
    "## Exercise 4: Updating axes"
   ]
  },
  {
   "cell_type": "markdown",
   "metadata": {},
   "source": [
    "Let's convert subband number to frequency and include the actual time for our axes.\n",
    "\n",
    "Remember the conversion from subband number to frequency from earlier\n",
    "\n",
    "$$\\nu = (n-1+ \\frac{s}{512})\\frac{\\nu_{clock}}{2},$$\n",
    "\n",
    "where $n$ is the nyquist zone, $s$ is the subband number and $\\nu_{clock}$ is the clock frequency.\n",
    "\n",
    "In this example $n=1$ and $\\nu_{clock} = 200$ MHz.\n",
    "\n",
    "* Look at `solar_mode3_20190612_133144.sh` to find which subbands were used.\n",
    "* Write a function to convert subband number to frequency.\n",
    "* Using the timestamp in the BST file name, create an array of datetime objects for the time array.\n",
    "* Replot the data with the correct frequency and time axis."
   ]
  },
  {
   "cell_type": "code",
   "execution_count": null,
   "metadata": {},
   "outputs": [],
   "source": [
    "def sb_to_freq(sb, zone=1):\n",
    "    clock = 200 #MHz\n",
    "    freq = (zone-1+sb/512)*(clock/2)\n",
    "    return freq #MHz"
   ]
  },
  {
   "cell_type": "code",
   "execution_count": null,
   "metadata": {},
   "outputs": [],
   "source": [
    "sbs = np.arange(7,495)\n",
    "freqs = sb_to_freq(sbs)\n",
    "# print(sbs)\n",
    "# print(freqs)\n",
    "obs_start = bstfile[len(bstfile)-27:len(bstfile)-12]\n",
    "\n",
    "obs_start = datetime.strptime(obs_start, \"%Y%m%d_%H%M%S\")\n",
    "print(obs_start)\n",
    "obs_len  = timedelta(seconds = data.shape[0])\n",
    "obs_end = obs_start + obs_len\n",
    "t_lims = [obs_start, obs_end]\n",
    "\n",
    "t_lims = dates.date2num(t_lims)\n",
    "print(t_lims)\n",
    "#you only really need start and end time for imshow but we'll do a full array anyway\n",
    "t_arr = np.arange(0,t_len)\n",
    "t_arr = t_arr*timedelta(seconds=1)\n",
    "t_arr = obs_start+t_arr\n",
    "t_arr = dates.date2num(t_arr)"
   ]
  },
  {
   "cell_type": "code",
   "execution_count": null,
   "metadata": {},
   "outputs": [],
   "source": [
    "fig, ax = plt.subplots()\n",
    "ax.imshow(data.T, aspect=\"auto\", extent=[t_arr[0], t_arr[-1], freqs[-1], freqs[0]],\n",
    "         vmin = np.percentile(data.T, 1), vmax = np.percentile(data.T, 99))\n",
    "ax.xaxis_date()\n",
    "plt.xlabel(\"Time\")\n",
    "plt.ylabel(\"Frequency (MHz)\")"
   ]
  },
  {
   "cell_type": "markdown",
   "metadata": {},
   "source": [
    "## Exercise 5: Remove background"
   ]
  },
  {
   "cell_type": "markdown",
   "metadata": {},
   "source": [
    "How would you remove the effect of the antenna bandpass filter?"
   ]
  },
  {
   "cell_type": "code",
   "execution_count": null,
   "metadata": {},
   "outputs": [],
   "source": [
    "data = data/np.mean(data[:100], axis=0)\n",
    "fig, ax = plt.subplots()\n",
    "ax.imshow(data.T, aspect=\"auto\", extent=[t_arr[0], t_arr[-1], freqs[-1], freqs[0]],\n",
    "         vmin = np.percentile(data.T, 1), vmax = np.percentile(data.T, 99))\n",
    "ax.xaxis_date()\n",
    "plt.xlabel(\"Time\")\n",
    "plt.ylabel(\"Frequency (MHz)\")"
   ]
  },
  {
   "cell_type": "markdown",
   "metadata": {},
   "source": [
    "## Exercise 5: Mode 357\n",
    "\n",
    "Mode 357 is a common solar observation mode where the 488 beamlets are spread across Mode, 3, 5, and 7 to obtain wide freqency coverage of the sun.\n",
    "\n",
    "| Mode | Beamlet |\n",
    "| --- | --- |\n",
    "| 3 | 0 - 199 |\n",
    "| 5 | 200 - 399 |\n",
    "| 7 | 400- 487 |"
   ]
  },
  {
   "cell_type": "code",
   "execution_count": null,
   "metadata": {},
   "outputs": [],
   "source": [
    "bst_file = '20170908_083815_bst_00X.dat'\n",
    "mode357_raw = np.fromfile('./BST_data/mode357/'+bst_file)\n",
    "print(mode357_raw.shape, mode357_raw.dtype)"
   ]
  },
  {
   "cell_type": "code",
   "execution_count": null,
   "metadata": {},
   "outputs": [],
   "source": [
    "n_times = mode357_raw.shape[0]/(488)\n",
    "n_times"
   ]
  },
  {
   "cell_type": "markdown",
   "metadata": {},
   "source": [
    "As before we need to reshape the data as this was an 8bit observatin we know there are 488 beamlets"
   ]
  },
  {
   "cell_type": "code",
   "execution_count": null,
   "metadata": {},
   "outputs": [],
   "source": [
    "mode357 = mode357_raw.reshape(-1, 488)\n",
    "mode357.shape"
   ]
  },
  {
   "cell_type": "markdown",
   "metadata": {},
   "source": [
    "Now we can plot the full mode 357 data or dynamic spectrum"
   ]
  },
  {
   "cell_type": "code",
   "execution_count": null,
   "metadata": {},
   "outputs": [],
   "source": [
    "plt.imshow(mode357.T, aspect='auto', norm=LogNorm(), origin='lower')"
   ]
  },
  {
   "cell_type": "markdown",
   "metadata": {},
   "source": [
    "So we can see the data looks as we expect but it's not very useful withput the time and freqency information\n",
    "\n",
    "Mode 357 is configured with the following subbands:\n",
    "* 3, Zone=1: 54, 56, 58, ..., 454\n",
    "* 5, Zone=2: 54, 56, 58, ..., 454\n",
    "* 7: Zone=3, 54, 56, 58, ..., 230\n",
    "\n",
    "Using the functions we defined above find the frequencies for these "
   ]
  },
  {
   "cell_type": "code",
   "execution_count": null,
   "metadata": {},
   "outputs": [],
   "source": [
    "freq_m3 = sb_to_freq(np.arange(54,454,2))\n",
    "freq_m5 = sb_to_freq(np.arange(54,454,2), zone=2)\n",
    "freq_m7 = sb_to_freq(np.arange(54,230,2), zone=3)\n",
    "freq_m3.shape, freq_m5.shape, freq_m7.shape"
   ]
  },
  {
   "cell_type": "markdown",
   "metadata": {},
   "source": [
    "As before we can extract the time information from the filename"
   ]
  },
  {
   "cell_type": "code",
   "execution_count": null,
   "metadata": {},
   "outputs": [],
   "source": [
    "obs_start = bstfile[len(bstfile)-27:len(bstfile)-12]\n",
    "\n",
    "obs_start = datetime.strptime(obs_start, \"%Y%m%d_%H%M%S\")\n",
    "print(obs_start)\n",
    "obs_len  = timedelta(seconds = data.shape[0])\n",
    "obs_end = obs_start + obs_len\n",
    "t_lims = [obs_start, obs_end]\n",
    "\n",
    "t_lims = dates.date2num(t_lims)"
   ]
  },
  {
   "cell_type": "markdown",
   "metadata": {},
   "source": [
    "We can extract the data for each of the modes"
   ]
  },
  {
   "cell_type": "code",
   "execution_count": null,
   "metadata": {},
   "outputs": [],
   "source": [
    "m3 = mode357[:,0:200]\n",
    "m5 = mode357[:,200:400]\n",
    "m7 = mode357[:,400:]\n",
    "\n",
    "m3.shape, m5.shape, m7.shape"
   ]
  },
  {
   "cell_type": "markdown",
   "metadata": {},
   "source": [
    "Finally plot the mode 357 with the correct axis by combing what was done above for the other BST file."
   ]
  },
  {
   "cell_type": "code",
   "execution_count": null,
   "metadata": {},
   "outputs": [],
   "source": [
    "fig, (ax1, ax2, ax3) = plt.subplots(nrows=3, ncols=1, figsize=(8, 6), layout='constrained')\n",
    "ax1.imshow(m7.T, aspect='auto', norm=LogNorm(), origin='lower', \n",
    "           extent=[t_lims[0], t_lims[1], freq_m5[0], freq_m7[-1]])\n",
    "ax1.tick_params(axis='x', which='both', bottom=False, top=False, labelbottom=False)\n",
    "ax2.imshow(m5.T, aspect='auto', norm=LogNorm(), origin='lower',\n",
    "           extent=[t_lims[0], t_lims[1], freq_m5[0], freq_m5[-1]])\n",
    "ax2.tick_params(axis='x', which='both', bottom=False, top=False, labelbottom=False)\n",
    "ax3.imshow(m3.T, aspect='auto', norm=LogNorm(), origin='lower',\n",
    "           extent=[t_lims[0], t_lims[1], freq_m3[0], freq_m3[-1]])\n",
    "ax3.xaxis_date()\n",
    "fig.suptitle(f'Mode 357 {obs_start}')"
   ]
  }
 ],
 "metadata": {
  "kernelspec": {
   "display_name": "Python 3 (ipykernel)",
   "language": "python",
   "name": "python3"
  },
  "language_info": {
   "codemirror_mode": {
    "name": "ipython",
    "version": 3
   },
   "file_extension": ".py",
   "mimetype": "text/x-python",
   "name": "python",
   "nbconvert_exporter": "python",
   "pygments_lexer": "ipython3",
   "version": "3.9.16"
  }
 },
 "nbformat": 4,
 "nbformat_minor": 2
}
