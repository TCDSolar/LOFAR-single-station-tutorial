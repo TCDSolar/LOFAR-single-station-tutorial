{
 "cells": [
  {
   "cell_type": "markdown",
   "metadata": {},
   "source": [
    "# I-LOFAR SST Tutorial "
   ]
  },
  {
   "cell_type": "markdown",
   "metadata": {},
   "source": [
    "This tutorial is based on that of Derek McKay and Aoife Ray which can be found [here](https://www.dropbox.com/s/cgcn1nbqylzq8fe/KAIRA-UIT-DAT-506.zip?dl=0) and [here](https://github.com/murphp30/I_LOFAR_workshop_2020) for further reference. \n",
    "\n",
    "The following tutorial is aimed at familiarising the user with subband statistics (SST) data produced by the internation LOFAR station like the Irish Lofarstaion or I-LOFAR. SST data is the average power per subband that an antenna (or set of antennas) receives, integrated over a specified time period.\n",
    "\n",
    "SST data is a useful diagnostic tool for inspecting the station's radio environment and identifying possible sources of RFI (Radio Frequency Interference)."
   ]
  },
  {
   "cell_type": "markdown",
   "metadata": {},
   "source": [
    "## Exercise 1: Inspecting an SST file"
   ]
  },
  {
   "cell_type": "code",
   "execution_count": null,
   "metadata": {},
   "outputs": [],
   "source": [
    "#importing Python modules\n",
    "import os\n",
    "import sys\n",
    "import numpy as np\n",
    "import glob\n",
    "\n",
    "from matplotlib import pyplot as plt"
   ]
  },
  {
   "cell_type": "markdown",
   "metadata": {},
   "source": [
    "List the contents of the directory 'SST_data'and inspect the filenames. \n",
    "Remember SST files contain no header information. \n",
    "\n",
    ">**What information can we gather about the SST file from its name?**"
   ]
  },
  {
   "cell_type": "code",
   "execution_count": null,
   "metadata": {},
   "outputs": [],
   "source": [
    "input_dir=\"./\"\n",
    "!ls {input_dir + 'SST_data'}"
   ]
  },
  {
   "cell_type": "markdown",
   "metadata": {},
   "source": [
    "Now to have a look at what's inside one of these SST files...\n",
    "\n",
    "> **(1) Get the file size (using python package os)**\n",
    "\n",
    "> **(2) Knowing this observation was in 8-bit mode, can you calculate the actual length of the data? (Hint: This observation was made in 8-bit mode.)**\n",
    "\n",
    "> **(3) As there are 512 subbands in each mode, can you find out the number of timesteps?**"
   ]
  },
  {
   "cell_type": "code",
   "execution_count": null,
   "metadata": {},
   "outputs": [],
   "source": [
    "filename = input_dir + 'SST_data/' + '20181012_111501_sst_rcu000.dat'   \n",
    "filelen = os.path.getsize(filename)\n",
    "datalen = filelen//8     # 8 bytes per double-precision number\n",
    "num_subbands = 512\n",
    "num_records = datalen//num_subbands\n",
    "\n",
    "print('Filename = ', filename)\n",
    "print('File Length = ', filelen)\n",
    "print('Length of Array = ', datalen)\n",
    "print('Number of timesteps = ', num_records)\n"
   ]
  },
  {
   "cell_type": "markdown",
   "metadata": {},
   "source": [
    "As there is no header information provided by an SST file, one would have to know the integration or duration of the observation in order to determine the number of seconds represented by a single timestep.\n",
    "The default is 1 second integration, which has been used for this observation. "
   ]
  },
  {
   "cell_type": "markdown",
   "metadata": {},
   "source": [
    "## Exercise 2: Plotting a 1-D spectrum"
   ]
  },
  {
   "cell_type": "markdown",
   "metadata": {},
   "source": [
    "Now that we have found out some details about our SST we want to plot a 1-dimensional spectrum in order to inspect further. \n",
    "\n",
    "> **Firstly, open the file and unpack its contents. Print the length of the array.**\n",
    "(**_Hint: Python's \"struct.unpack\" will help you here or \"numpy.fromfile\"_** )"
   ]
  },
  {
   "cell_type": "code",
   "execution_count": null,
   "metadata": {},
   "outputs": [],
   "source": [
    "# Read the contents of the file\n",
    "dataraw = np.fromfile(filename)\n",
    "dataraw.shape"
   ]
  },
  {
   "cell_type": "markdown",
   "metadata": {},
   "source": [
    "This is a 1-dimensional array or list of numbers. We want to shape this so that it is a 2-dimensional array. \n",
    "\n",
    "> **Reshape the 1-dimensional array so that it's shape reflects the number of timesteps and number of subbands we found in Exercise 1.**\n",
    "\n",
    "> **Print the shape of the new 2-dimensional array**"
   ]
  },
  {
   "cell_type": "code",
   "execution_count": null,
   "metadata": {},
   "outputs": [],
   "source": [
    "# Re-organise the raw data into a 2D array\n",
    "data = np.reshape( dataraw, (num_records,num_subbands) )\n",
    "print(data.shape)"
   ]
  },
  {
   "cell_type": "markdown",
   "metadata": {},
   "source": [
    "From looking at the shape of the 2-D array above we can see that time is on the x-axis and subband number is on the y-axis. However, it is typical to have the subbands displayed on the x-axis. \n",
    "> **Transpose the 2-D array so that time is now on the y-axis and subband number is on the x-axis. Print the array shape to make sure it was completed correctly.**"
   ]
  },
  {
   "cell_type": "code",
   "execution_count": null,
   "metadata": {},
   "outputs": [],
   "source": [
    "# Switch the axes, so that xaxis=sample (i.e. time) and yaxis=subbands (freq.)\n",
    "data = np.transpose(data)\n",
    "print(data.shape)"
   ]
  },
  {
   "cell_type": "markdown",
   "metadata": {},
   "source": [
    "In order to display the spectrum we need to average over the integration time. \n",
    ">**Average over the y-axis.**"
   ]
  },
  {
   "cell_type": "code",
   "execution_count": null,
   "metadata": {},
   "outputs": [],
   "source": [
    "# Average the data in the time-axis\n",
    "average=np.mean(data, axis=1)"
   ]
  },
  {
   "cell_type": "markdown",
   "metadata": {},
   "source": [
    "It's now time to plot!!\n",
    "\n",
    ">**Plot the averaged intensity using Python's Matplotlib.**"
   ]
  },
  {
   "cell_type": "code",
   "execution_count": null,
   "metadata": {},
   "outputs": [],
   "source": [
    "# Plot the results\n",
    "plt.plot(average)\n",
    "plt.show()"
   ]
  },
  {
   "cell_type": "markdown",
   "metadata": {},
   "source": [
    "Now you have a spectrum! However, many of the features are somewhat difficult to distinguish. \n",
    "\n",
    ">**Can you think of a way of plotting the data so that the smaller features are enhanced?**\n",
    "\n",
    "> **Implement and plot again, this time remember to label your axes!**\n",
    "\n",
    "> **Save the figure to your working directory.**"
   ]
  },
  {
   "cell_type": "code",
   "execution_count": null,
   "metadata": {},
   "outputs": [],
   "source": [
    "# Re-organise the raw data into a 2D array\n",
    "data = np.reshape( dataraw, (num_records,num_subbands) )\n",
    "\n",
    "# Switch the axes, so that xaxis=sample (i.e. time) and yaxis=subbands (freq.)\n",
    "data = np.transpose(data)\n",
    "\n",
    "# Use decibels, not linear scale\n",
    "data = 10*np.log10(data)\n",
    "\n",
    "# Average the data in the time-axis\n",
    "average=np.mean(data, axis=1)"
   ]
  },
  {
   "cell_type": "code",
   "execution_count": null,
   "metadata": {},
   "outputs": [],
   "source": [
    "# Plot the results\n",
    "plt.plot(average)\n",
    "plt.xlabel(\"Subband\")\n",
    "plt.ylabel(\"Decibels\")\n",
    "plt.title(filename)\n",
    "plt.show()"
   ]
  },
  {
   "cell_type": "markdown",
   "metadata": {},
   "source": [
    "## Exercise 3: Identifying different observing modes"
   ]
  },
  {
   "cell_type": "markdown",
   "metadata": {},
   "source": [
    "It is now time to repeat this process for each of the other files in the directory 'SST_data'. \n",
    ">**Produce a plot for each SST file and save to your working directory**\n",
    "\n",
    ">**What are the differences between the plots?**\n",
    "\n",
    ">**Even though there is no header information, can you identify which mode each file corresponds to?**"
   ]
  },
  {
   "cell_type": "code",
   "execution_count": null,
   "metadata": {},
   "outputs": [],
   "source": [
    "### MODE 3 ###\n",
    "\n",
    "# Find the SST file\n",
    "filename = input_dir + 'SST_data/' + '20181012_111501_sst_rcu000.dat'\n",
    "\n",
    "# Get the filesize, and thus work out how many records to expect\n",
    "filelen = os.path.getsize(filename)\n",
    "datalen=filelen//8     # 8 bytes per double-precision number\n",
    "num_subbands=512\n",
    "num_records=datalen//num_subbands\n",
    "\n",
    "# Read the contents of the file\n",
    "dataraw = np.fromfile(filename)\n",
    "\n",
    "# Re-organise the raw data into a 2D array\n",
    "data = np.reshape( dataraw, (num_records,num_subbands) )\n",
    "\n",
    "# Switch the axes, so that xaxis=sample (i.e. time) and yaxis=subbands (freq.)\n",
    "data = np.transpose(data)\n",
    "\n",
    "# Use decibels, not linear scale\n",
    "data = 10*np.log10(data)\n",
    "\n",
    "# Average the data in the time-axis\n",
    "average=np.mean(data, axis=1)\n",
    "\n",
    "# Plot the results\n",
    "plt.plot(average)\n",
    "plt.xlabel(\"Subband\")\n",
    "plt.ylabel(\"Decibels\")\n",
    "plt.title('Mode 3')\n",
    "plt.show()"
   ]
  },
  {
   "cell_type": "code",
   "execution_count": null,
   "metadata": {},
   "outputs": [],
   "source": [
    "### MODE 5 ###\n",
    "\n",
    "# Find the SST file\n",
    "filename = input_dir + 'SST_data/' + '20181012_111724_sst_rcu000.dat'\n",
    "\n",
    "# Get the filesize, and thus work out how many records to expect\n",
    "filelen = os.path.getsize(filename)\n",
    "datalen=filelen//8     # 8 bytes per double-precision number\n",
    "num_subbands=512\n",
    "num_records=datalen//num_subbands\n",
    "\n",
    "# Read the contents of the file\n",
    "dataraw = np.fromfile(filename)\n",
    "\n",
    "# Re-organise the raw data into a 2D array\n",
    "data = np.reshape( dataraw, (num_records,num_subbands) )\n",
    "\n",
    "# Switch the axes, so that xaxis=sample (i.e. time) and yaxis=subbands (freq.)\n",
    "data = np.transpose(data)\n",
    "\n",
    "# Use decibels, not linear scale\n",
    "data = 10*np.log10(data)\n",
    "\n",
    "# Average the data in the time-axis\n",
    "average=np.mean(data, axis=1)\n",
    "\n",
    "# Plot the results\n",
    "plt.plot(average)\n",
    "plt.xlabel(\"Subband\")\n",
    "plt.ylabel(\"Decibels\")\n",
    "plt.title('Mode 5')\n",
    "plt.show()"
   ]
  },
  {
   "cell_type": "code",
   "execution_count": null,
   "metadata": {},
   "outputs": [],
   "source": [
    "### MODE 7 ###\n",
    "\n",
    "# Find the SST file\n",
    "filename = input_dir + 'SST_data/' + '20181012_112240_sst_rcu000.dat'\n",
    "\n",
    "# Get the filesize, and thus work out how many records to expect\n",
    "filelen = os.path.getsize(filename)\n",
    "datalen=filelen//8     # 8 bytes per double-precision number\n",
    "num_subbands=512\n",
    "num_records=datalen//num_subbands\n",
    "\n",
    "# Read the contents of the file\n",
    "dataraw = np.fromfile(filename)\n",
    "\n",
    "# Re-organise the raw data into a 2D array\n",
    "data = np.reshape( dataraw, (num_records,num_subbands) )\n",
    "\n",
    "# Switch the axes, so that xaxis=sample (i.e. time) and yaxis=subbands (freq.)\n",
    "data = np.transpose(data)\n",
    "\n",
    "# Use decibels, not linear scale\n",
    "data = 10*np.log10(data)\n",
    "\n",
    "# Average the data in the time-axis\n",
    "average=np.mean(data, axis=1)\n",
    "\n",
    "# Plot the results\n",
    "plt.plot(average)\n",
    "plt.xlabel(\"Subband\")\n",
    "plt.ylabel(\"Decibels\")\n",
    "plt.title('Mode 7')\n",
    "plt.show()"
   ]
  },
  {
   "cell_type": "markdown",
   "metadata": {},
   "source": [
    "As discussed at the beginning of this session, each of these modes corresponds to a different frequency range. \n",
    "> **Using Table 1 below can you change the x-axis of each of the spectra above to more accurately represent the data and its frequency range.**\n",
    "\n",
    "> **Additionally, try plotting all three modes on the same plot with the correct x-axis.**\n",
    "\n",
    "| Mode | Frequency Range (MHz) |\n",
    "| --- | --- |\n",
    "| 3 | 10-90 |\n",
    "| 4 | 30-90 |\n",
    "| 5 | 110-190 |\n",
    "| 6 | 170-230 |\n",
    "| 7 | 210-270 |\n",
    "Table 1."
   ]
  },
  {
   "cell_type": "code",
   "execution_count": null,
   "metadata": {},
   "outputs": [],
   "source": [
    "### MODE 3 ###\n",
    "\n",
    "# Find the SST file\n",
    "filename = input_dir + 'SST_data/' + '20181012_111501_sst_rcu000.dat'\n",
    "\n",
    "# Get the filesize, and thus work out how many records to expect\n",
    "filelen = os.path.getsize(filename)\n",
    "datalen=filelen//8     # 8 bytes per double-precision number\n",
    "num_subbands=512\n",
    "num_records=datalen//num_subbands\n",
    "\n",
    "# Read the contents of the file\n",
    "dataraw = np.fromfile(filename)\n",
    "\n",
    "# Re-organise the raw data into a 2D array\n",
    "data = np.reshape( dataraw, (num_records,num_subbands) )\n",
    "\n",
    "# Switch the axes, so that xaxis=sample (i.e. time) and yaxis=subbands (freq.)\n",
    "data = np.transpose(data)\n",
    "\n",
    "# Use decibels, not linear scale\n",
    "data = 10*np.log10(data)\n",
    "\n",
    "# Average the data in the time-axis\n",
    "average=np.mean(data, axis=1)\n",
    "\n",
    "# Finding the frequency range\n",
    "freq = [i for i in np.linspace(10,90, num_subbands)]\n",
    "\n",
    "# Plot the results\n",
    "plt.plot(freq, average)\n",
    "plt.xlabel(\"Frequency (MHz)\")\n",
    "plt.ylabel(\"Decibels\")\n",
    "plt.title('Mode 3')\n",
    "plt.show()"
   ]
  },
  {
   "cell_type": "code",
   "execution_count": null,
   "metadata": {},
   "outputs": [],
   "source": [
    "### MODE 3,5,7 ###\n",
    "\n",
    "# Find the SST file\n",
    "filenames = glob.glob(input_dir + 'SST_data/' + '20181012_*.dat')\n",
    "\n",
    "def file_details(filename):\n",
    "    # Get the filesize, and thus work out how many records to expect\n",
    "    filelen = os.path.getsize(filename)\n",
    "    datalen=filelen//8     # 8 bytes per double-precision number\n",
    "    num_subbands=512\n",
    "    num_records=datalen//num_subbands\n",
    "\n",
    "\n",
    "    # Read the contents of the file\n",
    "    dataraw = np.fromfile(filename)\n",
    "\n",
    "    \n",
    "    # Re-organise the raw data into a 2D array\n",
    "    data = np.reshape( dataraw, (num_records,num_subbands) )\n",
    "\n",
    "    # Switch the axes, so that xaxis=sample (i.e. time) and yaxis=subbands (freq.)\n",
    "    data = np.transpose(data)\n",
    "\n",
    "    # Use decibels, not linear scale\n",
    "    data = 10*np.log10(data)\n",
    "\n",
    "    # Average the data in the time-axis\n",
    "    average=np.mean(data, axis=1)\n",
    "    \n",
    "    return average\n",
    "\n",
    "    \n",
    "# Finding the frequency range\n",
    "freq_3 = [i for i in np.linspace(10,90, num_subbands)]\n",
    "freq_5 = [i for i in np.linspace(110,190, num_subbands)]\n",
    "freq_7 = [i for i in np.linspace(210,270, num_subbands)]\n",
    "freq = [freq_7, freq_5, freq_3]\n",
    "\n",
    "for i in range(len(filenames)):\n",
    "    print(filenames[i])\n",
    "    average = file_details(filenames[i])\n",
    "\n",
    "    # Plot the results\n",
    "    plt.plot(freq[i], average)\n",
    "plt.xlabel(\"Frequency (MHz)\")\n",
    "plt.ylabel(\"Decibels\")\n",
    "plt.title('Modes 3, 5 & 7')\n",
    "plt.show()\n"
   ]
  },
  {
   "cell_type": "markdown",
   "metadata": {},
   "source": [
    "## Exercise 4: Mode 6"
   ]
  },
  {
   "cell_type": "markdown",
   "metadata": {},
   "source": [
    "Next task is to have a look at mode 6. \n",
    ">**Repeat the steps above to plot the spectrum for mode 6, sst file found at 'SST/mode6/'.**\n",
    "\n",
    ">**Estimate the usable frequency range of RCU Mode 6.** \n",
    "\n",
    ">**As mentioned earlier, mode 6 is unique as it uses a different sampling clock frequency. What is the bandwidth of a single subband with sampling clock frequency of 160MHz and 200 MHz?**\n"
   ]
  },
  {
   "cell_type": "code",
   "execution_count": null,
   "metadata": {
    "scrolled": true
   },
   "outputs": [],
   "source": [
    "### MODE 6 ###\n",
    "\n",
    "# Find the SST file\n",
    "filename = input_dir + 'SST_data/mode_6/' + '20130619_234907_sst_rcu022.dat'\n",
    "\n",
    "# Get the filesize, and thus work out how many records to expect\n",
    "filelen = os.path.getsize(filename)\n",
    "datalen=filelen//8     # 8 bytes per double-precision number\n",
    "num_subbands=512\n",
    "num_records=datalen//num_subbands\n",
    "\n",
    "# Read the contents of the file\n",
    "dataraw = np.fromfile(filename)\n",
    "\n",
    "# Re-organise the raw data into a 2D array\n",
    "data = np.reshape( dataraw, (num_records,num_subbands) )\n",
    "\n",
    "# Switch the axes, so that xaxis=sample (i.e. time) and yaxis=subbands (freq.)\n",
    "data = np.transpose(data)\n",
    "\n",
    "# Use decibels, not linear scale\n",
    "data = 10*np.log10(data)\n",
    "\n",
    "# Average the data in the time-axis\n",
    "average=np.mean(data, axis=1)\n",
    "\n",
    "# Finding the frequency range\n",
    "freq = [i for i in np.linspace(10,90, num_subbands)]\n",
    "\n",
    "# Plot the results\n",
    "plt.plot(freq, average)\n",
    "plt.xlabel(\"Frequency (MHz)\")\n",
    "plt.ylabel(\"Decibels\")\n",
    "plt.title('Mode ')\n",
    "plt.show()"
   ]
  },
  {
   "cell_type": "markdown",
   "metadata": {},
   "source": [
    "## Exercise 5: Comparing data from different stations"
   ]
  },
  {
   "cell_type": "markdown",
   "metadata": {},
   "source": [
    "Subband statistics are very useful for RFI (Radio Frequency Interference) identification. From looking at specta one can identify if a source of RFI is long-lived or transient and at what frequency it occurs. In general, I-LOFAR experiences a very quiet radio environment. In order to test this, let's compare I-LOFAR to another station, KAIRA. The Kilpisjärvi Atmospheric Imaging Receiver Array (KAIRA) is a radio telescope located in north-west Finland. It is used for geophysical and astronomical research (Vierinen et al., 2012). It was constructed using the same hardware technology as LOFAR, but is not part of the LOFAR network.\n",
    "\n",
    ">**Plot the KAIRA spectrum, 'SST_data/KAIRA/20140430_153356_sst_rcu064.dat'.**\n",
    "\n",
    ">**What mode was this observation made with?**\n",
    "\n",
    ">**Modify your script to plot a I-LOFAR spectrum in the same mode on the same plot.**\n",
    "\n",
    ">**Can you identify any RFI in either of the two spectra? What frequencies?**"
   ]
  },
  {
   "cell_type": "code",
   "execution_count": null,
   "metadata": {},
   "outputs": [],
   "source": [
    "### MODE 3 - KAIRA & I-LOFAR###\n",
    "\n",
    "# Find the SST file\n",
    "filename_ILOFAR = input_dir + 'SST_data/' + '20181012_111501_sst_rcu000.dat'\n",
    "filename_KAIRA = input_dir + 'SST_data/KAIRA/' + '20140430_153356_sst_rcu064.dat'\n",
    "\n",
    "average_ILOFAR = file_details(filename_ILOFAR)\n",
    "average_KAIRA = file_details(filename_KAIRA)\n",
    "\n",
    "# Plot the results\n",
    "plt.plot(average_ILOFAR, label = 'I-LOFAR')\n",
    "plt.plot(average_KAIRA, label = 'KAIRA')\n",
    "plt.xlabel(\"Subband\")\n",
    "plt.ylabel(\"Decibels\")\n",
    "plt.title('Mode 3')\n",
    "plt.legend()\n",
    "plt.show()"
   ]
  },
  {
   "cell_type": "markdown",
   "metadata": {},
   "source": [
    ">**Repeat the above steps for SST_DATA/KAIRA/20130326_001420_sst_rcu080.dat and plot the spectrum on the same figure as above.**\n",
    "\n",
    ">**This is also a spectrum from KAIRA. Does it look the same? Are there any differences?**\n",
    "\n",
    ">**What is the reason for any differences observed? (Hint: at what frequency are these differences occurring?)**\n",
    "\n",
    "\n"
   ]
  },
  {
   "cell_type": "code",
   "execution_count": null,
   "metadata": {},
   "outputs": [],
   "source": [
    "### MODE 3 - KAIRA & I-LOFAR###\n",
    "\n",
    "# Find the SST file\n",
    "filename_ILOFAR = input_dir + 'SST_data/' + '20181012_111501_sst_rcu000.dat'\n",
    "filename_KAIRA = input_dir + 'SST_data/KAIRA/' + '20140430_153356_sst_rcu064.dat'\n",
    "filename_KAIRA_1 = input_dir + 'SST_data/KAIRA/' + '20130326_001420_sst_rcu080.dat'\n",
    "\n",
    "average_ILOFAR = file_details(filename_ILOFAR)\n",
    "average_KAIRA = file_details(filename_KAIRA)\n",
    "average_KAIRA_1 = file_details(filename_KAIRA_1)\n",
    "\n",
    "# Plot the results\n",
    "plt.plot(average_ILOFAR, label = 'I-LOFAR')\n",
    "plt.plot(average_KAIRA, label = 'KAIRA')\n",
    "plt.plot(average_KAIRA_1, label = 'KAIRA - 1')\n",
    "plt.xlabel(\"Subband\")\n",
    "plt.ylabel(\"Decibels\")\n",
    "plt.title('Mode 3')\n",
    "plt.legend()\n",
    "plt.show()"
   ]
  },
  {
   "cell_type": "markdown",
   "metadata": {},
   "source": [
    "## Exercise X: Troubleshooting SST data"
   ]
  },
  {
   "cell_type": "markdown",
   "metadata": {},
   "source": [
    "The next task is to plot the spectrum for the mode 6 observation '20181012_112017_sst_rcu000.dat'. You will notice that some changes will have to be made to the script used before as the file structure is not exactly the same. This is an example of the challenges faced when you have a file with no header information. \n",
    "\n",
    ">**Plot the 1-D spectrum for 'SST_DATA/exercise_x_20181012_112017_sst_rcu000.dat'**\n",
    "\n",
    ">**Why can't you use the same script as before to plot this spectrum?**\n",
    "\n",
    ">**Can you determine the observing mode of this spectrum?**\n",
    "\n",
    ">**Can you find the frequency of any RFI present in the spectrum?**"
   ]
  },
  {
   "cell_type": "code",
   "execution_count": null,
   "metadata": {},
   "outputs": [],
   "source": [
    "### MODE 6 ###\n",
    "\n",
    "# Find the SST file\n",
    "filename = input_dir + 'SST_data/exercise_x/' + '20181012_112017_sst_rcu000.dat'\n",
    "\n",
    "# Get the filesize, and thus work out how many records to expect\n",
    "filelen = os.path.getsize(filename)\n",
    "datalen=filelen//8     # 8 bytes per double-precision number\n",
    "num_subbands=512\n",
    "num_records=datalen//num_subbands\n",
    "\n",
    "# Read the contents of the file\n",
    "dataraw = np.fromfile(filename)\n",
    "# Re-organise the raw data into a 2D array\n",
    "data = np.reshape( dataraw, (num_records,num_subbands) )\n",
    "\n",
    "# Switch the axes, so that xaxis=sample (i.e. time) and yaxis=subbands (freq.)\n",
    "data = np.transpose(data)\n",
    "\n",
    "\n",
    "# Use decibels, not linear scale\n",
    "data = np.log(data, where=0<data, out=np.nan*data)\n",
    "data = 10*np.log10(data)\n",
    "\n",
    "# Average the data in the time-axis\n",
    "average=np.nanmean(data, axis=1)\n",
    "\n",
    "\n",
    "# Plot the results\n",
    "plt.plot(average)\n",
    "plt.xlabel(\"Subband\")\n",
    "plt.ylabel(\"Decibels\")\n",
    "plt.title('Mode 6')\n",
    "plt.show()\n"
   ]
  },
  {
   "cell_type": "code",
   "execution_count": null,
   "metadata": {},
   "outputs": [],
   "source": []
  }
 ],
 "metadata": {
  "kernelspec": {
   "display_name": "Python 3 (ipykernel)",
   "language": "python",
   "name": "python3"
  },
  "language_info": {
   "codemirror_mode": {
    "name": "ipython",
    "version": 3
   },
   "file_extension": ".py",
   "mimetype": "text/x-python",
   "name": "python",
   "nbconvert_exporter": "python",
   "pygments_lexer": "ipython3",
   "version": "3.9.16"
  }
 },
 "nbformat": 4,
 "nbformat_minor": 2
}
