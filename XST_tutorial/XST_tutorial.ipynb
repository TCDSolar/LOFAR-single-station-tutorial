{
 "cells": [
  {
   "cell_type": "markdown",
   "id": "e33c429b",
   "metadata": {},
   "source": [
    "# I-LOFAR XST Tutorial \n",
    "\n",
    "This tutorial is based on the tutorial from Michiel Brentjens [here](https://github.com/brentjens/lofarimaging/tree/master).\n",
    "\n",
    "It is aimed at familiarising the users with array covariance or crosslets (XST) data produced by the internation LOFAR station like the Irish Lofarstaion or I-LOFAR. XTS data is the receiver cross correlation averaged over a specified time period written out as 64-bit little-endian floats.\n",
    "\n",
    "\n",
    "If the station has $N_{rcu}$ RCUs, an $N_{rcu} × N_{rcu}$ complex array covariance matrix will be produced from each integration period. Denoting the covariance of receivers i and j with xi,j, the data points of single integration period are written to the file in the order\n",
    "\n",
    "\n",
    "$Re(x_{0,0}), Im(x_{0,0}), Re(x_{0,1}), Im(x_{0,1}), Re(x{0,2}), Im(x_{0,2}), . . . , Re(x_{N_{rcu},N_{rcu}}), Im(x_{N_{rcu},N_{rcu}} )$, where $Re$ and $Im$ denote the real and imaginary parts of the complex data values."
   ]
  },
  {
   "cell_type": "code",
   "execution_count": null,
   "id": "2b03ff04",
   "metadata": {},
   "outputs": [],
   "source": [
    "import astropy.units as u\n",
    "import numpy as np\n",
    "\n",
    "from lofarantpos.db import LofarAntennaDatabase\n",
    "from matplotlib import pyplot as plt\n",
    "from matplotlib.colors import LogNorm"
   ]
  },
  {
   "cell_type": "markdown",
   "id": "bc389e98",
   "metadata": {},
   "source": [
    "Let look at the folders and see can we find some data"
   ]
  },
  {
   "cell_type": "code",
   "execution_count": null,
   "id": "074c1d1c",
   "metadata": {},
   "outputs": [],
   "source": [
    "ls"
   ]
  },
  {
   "cell_type": "code",
   "execution_count": null,
   "id": "1aa43dfb",
   "metadata": {},
   "outputs": [],
   "source": [
    "!ls XST_data/"
   ]
  },
  {
   "cell_type": "markdown",
   "id": "64c7de4b",
   "metadata": {},
   "source": [
    "This data was taken by I-LOFAR and can be found here https://data.lofar.ie/2017/12/25/xst/\n",
    "\n",
    "## Exercise 1: Inspecting and loading an XST file\n",
    "\n",
    "Lets load in the data as before `np.fromfile` is useful here"
   ]
  },
  {
   "cell_type": "code",
   "execution_count": null,
   "id": "c81c64d7",
   "metadata": {},
   "outputs": [],
   "source": [
    "# np.complex128 as 64bit for real and 64bit for imag"
   ]
  },
  {
   "cell_type": "markdown",
   "id": "29ffbcb9",
   "metadata": {},
   "source": [
    "International stations have 192 RCUS the sizme should be $N_{rcu} \\times  N_{rcu}$ so $N_{rcu} = \\sqrt{size}$ "
   ]
  },
  {
   "cell_type": "code",
   "execution_count": null,
   "id": "88140111",
   "metadata": {},
   "outputs": [],
   "source": []
  },
  {
   "cell_type": "markdown",
   "id": "d1f1466a",
   "metadata": {},
   "source": [
    "Lets rehshape the data to have the correct format of $N_{rcu} \\times N_{rcu}$ "
   ]
  },
  {
   "cell_type": "code",
   "execution_count": null,
   "id": "e5d5eeaa",
   "metadata": {},
   "outputs": [],
   "source": []
  },
  {
   "cell_type": "markdown",
   "id": "7b2719ad",
   "metadata": {},
   "source": [
    "## Not sure about this need to double check\n",
    "\n",
    "The data contains both polarisations so extract the x and y polarisations"
   ]
  },
  {
   "cell_type": "code",
   "execution_count": null,
   "id": "b5e036ee",
   "metadata": {},
   "outputs": [],
   "source": []
  },
  {
   "cell_type": "markdown",
   "id": "9eff1914",
   "metadata": {},
   "source": [
    "\n",
    "## Exercise 2: Make all sky image\n",
    "\n",
    "Now that we have the complex visiblty data we need to compute some other values to make the all sky images.\n",
    "\n",
    "First we need the positions of the antenna for the Irish station IE613 and since looking at mode 3 will be the LBA"
   ]
  },
  {
   "cell_type": "code",
   "execution_count": null,
   "id": "a973baa9",
   "metadata": {},
   "outputs": [],
   "source": []
  },
  {
   "cell_type": "markdown",
   "id": "6237b84c",
   "metadata": {},
   "source": [
    "Next we need to compute the baselines or vectors between the each antenna pair"
   ]
  },
  {
   "cell_type": "code",
   "execution_count": null,
   "id": "daf0abaf",
   "metadata": {},
   "outputs": [],
   "source": []
  },
  {
   "cell_type": "markdown",
   "id": "8e47183a",
   "metadata": {},
   "source": [
    "Lets convert the subband to a frequency this obsevation was take in subband 194.\n",
    "\n",
    "Remember the conversion from subband number to frequency from earlier\n",
    "\n",
    "$$\\nu = (n-1+ \\frac{s}{512})\\frac{\\nu_{clock}}{2},$$\n",
    "\n",
    "where $n$ is the nyquist zone, $s$ is the subband number and $\\nu_{clock}$ is the clock frequency.\n",
    "\n",
    "In this example $n=1$ and $\\nu_{clock} = 200$ MHz."
   ]
  },
  {
   "cell_type": "code",
   "execution_count": null,
   "id": "7328bba3",
   "metadata": {},
   "outputs": [],
   "source": [
    "# Convert subband to frequncei in Hz !!\n",
    "\n",
    "print(freq)"
   ]
  },
  {
   "cell_type": "markdown",
   "id": "ab4ebfe1",
   "metadata": {},
   "source": [
    "The function below computes the inverse Fourier transform of station obaservations"
   ]
  },
  {
   "cell_type": "code",
   "execution_count": null,
   "id": "626d7b2e",
   "metadata": {},
   "outputs": [],
   "source": [
    "# Define a function to do the imaging\n",
    "def sky_imager(visibilities,baselines,freq,im_x,im_y):\n",
    "    img = np.zeros([im_y,im_x])\n",
    "    for l_ix,l in enumerate(np.linspace(1,-1,im_y)):\n",
    "        for m_ix,m in enumerate(np.linspace(-1,1,im_x)):\n",
    "            n = np.sqrt(1-l**2-m**2)\n",
    "            img[m_ix,l_ix] = np.mean(visibilities*np.exp(-2j*np.pi*freq*(baselines[:,:,0]*l + baselines[:,:,1]*m)/299792458.0))\n",
    "    return img"
   ]
  },
  {
   "cell_type": "markdown",
   "id": "fb702574",
   "metadata": {},
   "source": [
    "Lets make image of the x polarisation"
   ]
  },
  {
   "cell_type": "code",
   "execution_count": null,
   "id": "d63efae4",
   "metadata": {},
   "outputs": [],
   "source": []
  },
  {
   "cell_type": "markdown",
   "id": "70ba2402",
   "metadata": {},
   "source": [
    "Now plot the imge using `plt.imshow`"
   ]
  },
  {
   "cell_type": "code",
   "execution_count": null,
   "id": "973e7f17",
   "metadata": {},
   "outputs": [],
   "source": []
  },
  {
   "cell_type": "markdown",
   "id": "5f32b194",
   "metadata": {},
   "source": [
    "What about the y polarisation"
   ]
  },
  {
   "cell_type": "code",
   "execution_count": null,
   "id": "ceaf1ea9",
   "metadata": {},
   "outputs": [],
   "source": []
  },
  {
   "cell_type": "markdown",
   "id": "0cd50760",
   "metadata": {},
   "source": [
    "Again plot the imge using `plt.imshow`"
   ]
  },
  {
   "cell_type": "code",
   "execution_count": null,
   "id": "8e7ca1a9",
   "metadata": {},
   "outputs": [],
   "source": []
  },
  {
   "cell_type": "code",
   "execution_count": null,
   "id": "fa6caa4c",
   "metadata": {},
   "outputs": [],
   "source": []
  },
  {
   "cell_type": "markdown",
   "id": "08edd81e",
   "metadata": {},
   "source": [
    "## Exercise 3: Make a ground map/image\n",
    "\n",
    "Using the same data but a different transform we can make a local ground map/image, this can be useful to locate local RFI.\n",
    "\n",
    "The function below compute such a map."
   ]
  },
  {
   "cell_type": "code",
   "execution_count": null,
   "id": "e7ad2d8b",
   "metadata": {},
   "outputs": [],
   "source": [
    "def ground_imager(visibilities,baselines,freq,im_x,im_y,dims,station_pqr,height=1.5):\n",
    "    img = np.zeros([im_y,im_x])\n",
    "    for p_ix,p in enumerate(np.linspace(dims[0],dims[1],im_x)):\n",
    "        for q_ix,q in enumerate(np.linspace(dims[2],dims[3],im_y)):\n",
    "            r = height\n",
    "            pqr = np.array([p,q,r])\n",
    "            antdist = np.linalg.norm(station_pqr - pqr[np.newaxis,:],axis=1)\n",
    "            groundbase = np.zeros([96,96])\n",
    "            for i in range(0,96):\n",
    "                groundbase[i] = antdist[i] - antdist[:]\n",
    "            # Note: this is RFI integration second - normal second, to take out interference\n",
    "            img[q_ix,p_ix] = np.mean(visibilities*np.exp(-2j*np.pi*freq*(-groundbase)/299792458.0))\n",
    "    return img"
   ]
  },
  {
   "cell_type": "markdown",
   "id": "513ddf66",
   "metadata": {},
   "source": [
    "Let compute the ground image for the x polaristaion"
   ]
  },
  {
   "cell_type": "code",
   "execution_count": null,
   "id": "5ebfb56f",
   "metadata": {},
   "outputs": [],
   "source": []
  },
  {
   "cell_type": "code",
   "execution_count": null,
   "id": "b50e4817",
   "metadata": {},
   "outputs": [],
   "source": []
  }
 ],
 "metadata": {
  "kernelspec": {
   "display_name": "Python 3 (ipykernel)",
   "language": "python",
   "name": "python3"
  },
  "language_info": {
   "codemirror_mode": {
    "name": "ipython",
    "version": 3
   },
   "file_extension": ".py",
   "mimetype": "text/x-python",
   "name": "python",
   "nbconvert_exporter": "python",
   "pygments_lexer": "ipython3",
   "version": "3.9.16"
  }
 },
 "nbformat": 4,
 "nbformat_minor": 5
}
